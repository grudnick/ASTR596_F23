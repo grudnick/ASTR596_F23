{
 "cells": [
  {
   "cell_type": "markdown",
   "metadata": {},
   "source": [
    "# ASTR 596 Computer lab - Image combination and photometry (35 points)\n",
    "\n",
    "In this lab you will learn how to:\n",
    "* combine a set of astrometrically aligned images\n",
    "* measure the size of stars in each of these images\n",
    "* measure fluxes of objects in each image\n",
    "* convert these to magnitudes\n",
    "* match sources in the two catalogs\n",
    "* plot H-R diagrams for the cluster\n",
    "\n",
    "<i>Note: Enter in all code to the problems in the provided notebook cells. Questions to answer will be <b>bolded</b>.</i>  \n",
    "\n",
    "All your answers should be entered in this notebook. Each student will need to hand in their own notebook by uploading it to GitHub following the instructions.\n",
    "\n",
    "In the code places where you will need to put something or write your own code are specified by `#***************`  You will not get points for doing this unless explicitly noted.  Some of these things are just to make sure you are setting up your paths correctly.\n",
    "\n",
    "**Due on Nov. 8 at Noon** to be handed into the \"Image Combinaton and Photometry\" assignment in Module 7."
   ]
  },
  {
   "cell_type": "markdown",
   "metadata": {},
   "source": [
    "Thanks to Prof. Rose Finn for her work in reducing the individual images of M29 and for providing them to us.\n",
    "\n",
    "You will need to download the raw data.  You can access it at https://www.dropbox.com/t/KLcvlNUMTsSWhmtD \n",
    "\n",
    "I suggest you make a directory on your computer called `~/ASTR596/Data` and put data in there.  "
   ]
  },
  {
   "cell_type": "code",
   "execution_count": null,
   "metadata": {},
   "outputs": [],
   "source": [
    "from photutils.detection import DAOStarFinder\n",
    "from astropy.stats import sigma_clipped_stats\n",
    "from photutils.aperture import CircularAperture\n",
    "from astropy.visualization import SqrtStretch\n",
    "from astropy.visualization.mpl_normalize import ImageNormalize\n",
    "from astropy.wcs import WCS\n",
    "from astropy.io import fits\n",
    "import glob\n",
    "import os\n",
    "from scipy.stats import scoreatpercentile\n",
    "\n",
    "from matplotlib import pyplot as plt\n",
    "import numpy as np\n",
    "\n",
    "#import ccdproc\n",
    "\n",
    "from astropy.nddata import CCDData\n",
    "import astropy.units as u\n",
    "from ccdproc import ImageFileCollection, Combiner, combine\n",
    "from ccdproc import wcs_project\n"
   ]
  },
  {
   "cell_type": "markdown",
   "metadata": {},
   "source": [
    "### Some functions to display the images and overplot the stars"
   ]
  },
  {
   "cell_type": "code",
   "execution_count": null,
   "metadata": {},
   "outputs": [],
   "source": [
    "def imdisplay(image, v1perc=10, v2perc=95):\n",
    "    '''\n",
    "    display an image \n",
    "    OPTIONAL KEYWORD PARAMETERS\n",
    "    v1perc: one end of the colormap assigned to the v1perc percent lowest flux \n",
    "    v2perc: the other end of the colormap assigned to the v2perc percent highest flux    \n",
    "    '''\n",
    "    # make sure image is an np array\n",
    "    nimage = np.array(image)\n",
    "    # determine the pixel values at the 10th and 95th percentile\n",
    "    v1 = scoreatpercentile(nimage,v1perc)\n",
    "    v2 = scoreatpercentile(nimage,v2perc)\n",
    "    # display using imshow\n",
    "    #\n",
    "    # you can play with alternate cmaps in the function below, such as \"viridis\" or \"gray\"\n",
    "    # The 'gray_r' color map reverses the color-scale so that dark display pixels are the brightest in the image\n",
    "    #\n",
    "    # vmin and vmax set the min and max pixel values that\n",
    "    # will be mapped to the extremes of the colormap\n",
    "    plt.imshow(nimage,cmap='gray_r',vmin=v1,vmax=v2)\n",
    "    plt.colorbar(fraction=.08)\n",
    "    \n",
    "def add_stars(xstars,ystars,radius=20,color='r',ax=None):\n",
    "    ''' this will add circles at the location of xstars,ystars '''\n",
    "    if ax is None:\n",
    "        ax = plt.gca()\n",
    "    allcircles=[]\n",
    "    #The zip function takes iterables (e.g. lists or arrays) and groups them into tuples that contain \n",
    "    #matched pairs of each input, e.g [(x,y)]\n",
    "    for x,y in zip(xstars,ystars):\n",
    "        c = plt.Circle((x,y),radius,color=color,fill=False)\n",
    "        #allcircles.append(c)\n",
    "        ax.add_artist(c)"
   ]
  },
  {
   "cell_type": "code",
   "execution_count": null,
   "metadata": {},
   "outputs": [],
   "source": [
    "#set the directory with your data\n",
    "#*********************\n",
    "#you will need to modify this with your own directory\n",
    "datadir = '/Users/grudnick/Work/Teaching/Classes/Astro_596/Fall_2023/Observing/Data/M29_cal'\n",
    "os.chdir(datadir)\n"
   ]
  },
  {
   "cell_type": "markdown",
   "metadata": {},
   "source": [
    "### Display one image in each filter \n",
    "This will let you see what the data in each filter looks like"
   ]
  },
  {
   "cell_type": "code",
   "execution_count": null,
   "metadata": {},
   "outputs": [],
   "source": [
    "plt.figure()\n",
    "data,header = fits.getdata('cazfdp-M29-0001b.fits', header=True)\n",
    "imdisplay(data)\n",
    "plt.title(\"B-band image\")"
   ]
  },
  {
   "cell_type": "code",
   "execution_count": null,
   "metadata": {},
   "outputs": [],
   "source": [
    "plt.figure()\n",
    "data,header = fits.getdata('cazfdp-M29-0001g.fits', header=True)\n",
    "imdisplay(data)\n",
    "plt.title(\"V-band image\")"
   ]
  },
  {
   "cell_type": "code",
   "execution_count": null,
   "metadata": {},
   "outputs": [],
   "source": [
    "plt.figure()\n",
    "data,header = fits.getdata('cazfdp-M29-0001r.fits', header=True)\n",
    "imdisplay(data)\n",
    "plt.title(\"R-band image\")"
   ]
  },
  {
   "cell_type": "markdown",
   "metadata": {},
   "source": [
    "### determine how subsequent images in a single band differ\n",
    "\n",
    "Use ds9 to display the 0001, 0002, and 0003 images for the $B$ band.  Display each image in a separate frame by creating a new frame in the horizontal button bar and opening the file into that frame.  Use the `scale->zscale` button to display the stretch better.\n",
    "\n",
    "By hitting the Tab key you can cycle through the images.  Shift-Tab cycles through them in reverse order.  You can also use the Blink button or the Tile button under the Frame button to blink the images.\n",
    "\n",
    "### Problem 1 (5 points)\n",
    "What is the main difference between the individual images within a single band?"
   ]
  },
  {
   "cell_type": "markdown",
   "metadata": {},
   "source": [
    "put answer here."
   ]
  },
  {
   "cell_type": "markdown",
   "metadata": {},
   "source": [
    "### Combine the images in each filter.\n",
    "\n",
    "Reference: https://ccdproc.readthedocs.io/en/latest/image_combination.html\n",
    "\n",
    "Note: $BVR$ images have extensions $bgr$ in our data set.  These images have had their bias correction, dark current, flatfielding, astrometry, and photometric zeropoint all measured and have had cosmicrays removed.\n",
    "\n",
    "We will use a new task called `glob.glob` which finds all the files in a current directory that match a certain syntax.\n",
    "\n",
    "The image combination has multiple steps\n",
    "* get a list of the images in each band.  \n",
    "* Each image has a slightly different pointing because the telescope was dithered around.\n",
    "* establish which WCS you will use as a target onto which all the other images will be aligned.\n",
    "* use a task called `reproject` to align all of the images using the reference "
   ]
  },
  {
   "cell_type": "code",
   "execution_count": null,
   "metadata": {},
   "outputs": [],
   "source": [
    "#for example, to get a list of all the images\n",
    "image_list = glob.glob('ca*.fits')\n",
    "print(image_list)"
   ]
  },
  {
   "cell_type": "code",
   "execution_count": null,
   "metadata": {},
   "outputs": [],
   "source": [
    "#*****************\n",
    "#Using the above code as a reference, create lists of images in each band\n",
    "#First we need to get a list for images in each filter\n",
    "rimage_list = glob.glob('')\n",
    "gimage_list = glob.glob('')\n",
    "bimage_list = glob.glob('')\n",
    "\n",
    "#read in the first r-band image in that list using fits.getdata.  This image will be used as a target whose WCS\n",
    "# will be used for all other images to be transformed onto\n",
    "rimage, rheader = fits.getdata(rimage_list[0],header=True)\n",
    "target_wcs = WCS(header)\n",
    "\n",
    "print(target_wcs)\n",
    "#**********************\n",
    "#now print out each of the image lists to see if they make sense\n",
    "print()\n",
    "print()\n",
    "print()\n"
   ]
  },
  {
   "cell_type": "markdown",
   "metadata": {},
   "source": [
    "###  Combine the images"
   ]
  },
  {
   "cell_type": "code",
   "execution_count": null,
   "metadata": {},
   "outputs": [],
   "source": [
    "# We will reproject all the images to align them with the first image in the R-band list.\n",
    "#start with the R-band data\n",
    "reprojected = []\n",
    "#loop through each image name\n",
    "for image_name in rimage_list:\n",
    "    #read the image into a \"CCDData\" object\n",
    "    img = CCDData.read(image_name)\n",
    "    #take each image, and reproject it onto an identical coordinate grid to the target image\n",
    "    new_image = wcs_project(img, target_wcs)\n",
    "    #this is a list of all the reprojected images\n",
    "    reprojected.append(new_image)\n",
    "\n",
    "# combine the reprojected images into one image\n",
    "combiner = Combiner(reprojected)\n",
    "stacked_image = combiner.average_combine()\n",
    "\n",
    "\n",
    "# save the combined image\n",
    "fits.writeto('M29R.fits',stacked_image,overwrite=True,header=rheader)\n",
    "# display the combined image\n",
    "plt.figure()\n",
    "imdisplay(stacked_image)\n",
    "plt.title('R-band image')"
   ]
  },
  {
   "cell_type": "markdown",
   "metadata": {},
   "source": [
    "## Problem 2 (5 points)"
   ]
  },
  {
   "cell_type": "code",
   "execution_count": null,
   "metadata": {},
   "outputs": [],
   "source": [
    "#*********************\n",
    "#repeat for the V-band images"
   ]
  },
  {
   "cell_type": "code",
   "execution_count": null,
   "metadata": {},
   "outputs": [],
   "source": [
    "#*********************\n",
    "#repeat for the B-band images"
   ]
  },
  {
   "cell_type": "markdown",
   "metadata": {},
   "source": [
    "### What if we want to display our images using RA and DEC?"
   ]
  },
  {
   "cell_type": "code",
   "execution_count": null,
   "metadata": {},
   "outputs": [],
   "source": [
    "plt.subplot(projection=target_wcs)\n",
    "imdisplay(stacked_image)"
   ]
  },
  {
   "cell_type": "markdown",
   "metadata": {},
   "source": [
    "## Problem 3 - Measure the FWHM of stars using imexam (5 points)\n",
    "\n",
    "imexam is a powerful image quick look tool to examine the images.  More info is at https://imexam.readthedocs.io/en/0.9.1/index.html\n",
    "\n",
    "In at terminal in the same directory as your data type `ipython`.  At the ipython command line type the following commands, each on their own line\n",
    "* import imexam\n",
    "* viewer=imexam.connect()   #start a ds9 window\n",
    "* viewer.load_fits('M29B.fits')  #loads an image\n",
    "* viewer.scale()   #change to the default zscale\n",
    "* viewer.imexam() #start the interactive tool.\n",
    "\n",
    "You will see a set of cursor commands.  By putting the cursor in the image and hitting the `a` key you will get a measure of the size and flux in the image.  By hitting the `r` key you will get a radial plot.\n",
    "\n",
    "Do this for 5 stars and take the average to get the FWHM of your image. \n",
    "\n",
    "\n",
    "Fill in those values below\n"
   ]
  },
  {
   "cell_type": "markdown",
   "metadata": {},
   "source": [
    "FWHM of B-band image (in pix): \n",
    "FWHM of V-band image (in pix): "
   ]
  },
  {
   "cell_type": "markdown",
   "metadata": {},
   "source": [
    "## Problem 4 - Measure the photometry of the stars using photutils  (5 points)"
   ]
  },
  {
   "cell_type": "code",
   "execution_count": null,
   "metadata": {},
   "outputs": [],
   "source": [
    "#read in the B-band image\n",
    "data_b, header_b = fits.getdata('M29B.fits',header=True)"
   ]
  },
  {
   "cell_type": "code",
   "execution_count": null,
   "metadata": {},
   "outputs": [],
   "source": [
    "# estimate the background counts in the image by computing the \n",
    "# mean and median excluding all pixels greater than 3-sigma above the mean\n",
    "mean_b, median_b, std_b = sigma_clipped_stats(data_b, sigma=3.0)"
   ]
  },
  {
   "cell_type": "code",
   "execution_count": null,
   "metadata": {},
   "outputs": [],
   "source": [
    "# set up daofind, with info about our image fwhm and the detection threshold\n",
    "#*****************************************\n",
    "# update with the FWHM that you measured from the imexam\n",
    "daofind = DAOStarFinder(fwhm=, threshold=5.*std_b)\n",
    "\n",
    "# detect sources, using the image - median, which subtracts the sky level from image, \n",
    "# assuming a sky that is constant across the iamge\n",
    "sources_b = daofind(data_b - median_b)\n",
    "\n",
    "# convert to pixel locations to ra and dec using the image header\n",
    "wcs_b = WCS(header_b)\n",
    "ra_b,dec_b = wcs_b.wcs_pix2world(sources_b['xcentroid'],sources_b['ycentroid'],0)\n",
    "\n",
    "# plot images and the sources.  using the subplot command we can plot figures side by side\n",
    "#plots B-band image\n",
    "plt.figure(figsize=(15,10))\n",
    "#select the left plot\n",
    "plt.subplot(1,2,1)\n",
    "imdisplay(data_b)\n",
    "\n",
    "#plot B-band image with the positions of the sources overlaid\n",
    "#select the right plot\n",
    "plt.subplot(1,2,2)\n",
    "\n",
    "#Create a list of positions of all the stars, as determined by the DAOStarFinder above.  \n",
    "#The transpose command puts the images into the correct format\n",
    "positions = np.transpose((sources_b['xcentroid'], sources_b['ycentroid']))\n",
    "#creates a set of circular apertues with r=15 pixels\n",
    "apertures = CircularAperture(positions, r=15.)\n",
    "imdisplay(data_b)\n",
    "#plot the apertures.  the ';' at the end suppresses some messy output\n",
    "apertures.plot(color='blue', lw=1.5, alpha=0.5);"
   ]
  },
  {
   "cell_type": "code",
   "execution_count": null,
   "metadata": {},
   "outputs": [],
   "source": [
    "#********************\n",
    "#repeat for the V-band image\n",
    "#put your code here"
   ]
  },
  {
   "cell_type": "markdown",
   "metadata": {},
   "source": [
    "## Problem 5 - Compare the positions of the V and B-band sources (5 points)\n",
    "\n",
    "* Make a plot of the DEC vs RA of the sources in the B and V images.\n",
    "* Plot each set with a separate marker.\n",
    "* Are the same sources detected in each image?  If not, which images has more sources and why?\n"
   ]
  },
  {
   "cell_type": "code",
   "execution_count": null,
   "metadata": {},
   "outputs": [],
   "source": [
    "#*************************\n",
    "# make a plot of the RA and DEC of the sources in the B and V images\n",
    "\n",
    "# open a figure\n",
    "plt.figure()\n",
    "\n",
    "# plot the positions of the B sources\n",
    "plt.plot('ms',mfc='None',markersize=10,label='B')\n",
    "\n",
    "# plot the positions of the V sources\n",
    "plt.plot('g.',mfc='None',markersize=10,label='V')\n",
    "\n",
    "# add a legend\n",
    "\n",
    "# label your x axis\n",
    "\n",
    "# label your y axis\n",
    "\n",
    "# save your plot\n"
   ]
  },
  {
   "cell_type": "markdown",
   "metadata": {},
   "source": [
    "## Match the catalogs of the B and V photometry\n",
    "\n",
    "We can match the sources in the two catalogs using their RA and DEC"
   ]
  },
  {
   "cell_type": "code",
   "execution_count": null,
   "metadata": {},
   "outputs": [],
   "source": [
    "from astropy.coordinates import SkyCoord\n",
    "from astropy import units as u"
   ]
  },
  {
   "cell_type": "code",
   "execution_count": null,
   "metadata": {},
   "outputs": [],
   "source": [
    "#this creates a SkyCoord object containing the B and V catalogs\n",
    "b_catalog = SkyCoord(ra=ra_b*u.degree, dec=dec_b*u.degree)\n",
    "v_catalog = SkyCoord(ra=ra_v*u.degree, dec=dec_v*u.degree)\n",
    "\n",
    "#this matches the two catalogs and outputs an array of indices, idx that when passed to v_catalog\n",
    "#gives the ids of the match sources in the b_catalog.\n",
    "idx, d2d, d3d = b_catalog.match_to_catalog_sky(v_catalog)\n",
    "\n",
    "# we are going to keep matches that have offsets less than 5 arcseconds\n",
    "# NOTE: this might not be small enough if you were\n",
    "# matching stars in a globular cluster\n",
    "matchflag = d2d < 5./3600*u.deg\n",
    "bmag = sources_b['mag'][matchflag]\n",
    "vmag = sources_v['mag'][idx[matchflag]]"
   ]
  },
  {
   "cell_type": "markdown",
   "metadata": {},
   "source": [
    "### Adjust the magnitudes\n",
    "\n",
    "`daofind` assumes a photometric ZP of zero.  In otherwords, it reports magnitudes as\n",
    "\n",
    "$$ mag = -2.5 \\log_{10}(flux) $$\n",
    "\n",
    "Compare this to the calibrated magnitudes which we would calculate as:\n",
    "\n",
    "\n",
    "$$ mag = -2.5 \\log_{10}(flux) + ZP$$\n",
    "\n",
    "Using this and the ZP for each image (reported in the image header as PHOTZP), correct the B and V magnitudes.\n",
    "\n",
    "## Problem 6 - convert instrumental magnitudes to calibrated magnitudes (5 points)"
   ]
  },
  {
   "cell_type": "code",
   "execution_count": null,
   "metadata": {},
   "outputs": [],
   "source": [
    "#***********************\n",
    "# your code to convert instrumental magnitudes in each band to calibrated magnitudes."
   ]
  },
  {
   "cell_type": "markdown",
   "metadata": {},
   "source": [
    "## Problem 7 - plot a color-magnitude diagram (5 points)"
   ]
  },
  {
   "cell_type": "code",
   "execution_count": null,
   "metadata": {},
   "outputs": [],
   "source": [
    "#**************************\n",
    "# your figure here\n",
    "\n",
    "plt.gca().invert_yaxis()\n",
    "plt.grid(True)"
   ]
  },
  {
   "cell_type": "markdown",
   "metadata": {},
   "source": [
    "## Problem 8 - Summarize the CMD (5 points)\n",
    "Write about the main features of the H-R diagram that you see.  Note that we have not selected members and that there may be contaminants in this field.  "
   ]
  }
 ],
 "metadata": {
  "kernelspec": {
   "display_name": "stenv",
   "language": "python",
   "name": "stenv"
  },
  "language_info": {
   "codemirror_mode": {
    "name": "ipython",
    "version": 3
   },
   "file_extension": ".py",
   "mimetype": "text/x-python",
   "name": "python",
   "nbconvert_exporter": "python",
   "pygments_lexer": "ipython3",
   "version": "3.9.16"
  }
 },
 "nbformat": 4,
 "nbformat_minor": 4
}
